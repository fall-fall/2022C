{
 "cells": [
  {
   "cell_type": "code",
   "execution_count": 17,
   "id": "ef81053c",
   "metadata": {},
   "outputs": [
    {
     "name": "stdout",
     "output_type": "stream",
     "text": [
      "第一步：库导入与环境设置完成。\n"
     ]
    }
   ],
   "source": [
    "# ==============================================================================\n",
    "# 第一步：环境设置与库导入\n",
    "# ==============================================================================\n",
    "import pandas as pd\n",
    "import numpy as np\n",
    "import networkx as nx\n",
    "import matplotlib.pyplot as plt\n",
    "import matplotlib\n",
    "from sklearn.preprocessing import StandardScaler\n",
    "from sklearn.covariance import GraphicalLassoCV\n",
    "from scipy.stats import gmean\n",
    "from pathlib import Path\n",
    "import warnings\n",
    "\n",
    "# 忽略将来可能出现的警告，保持输出整洁\n",
    "warnings.filterwarnings('ignore', category=FutureWarning)\n",
    "\n",
    "# --- 绘图风格与中文支持设置 ---\n",
    "# 设置全局字体，确保中文和负号正常显示\n",
    "matplotlib.rcParams['font.family'] = 'SimHei'  # 使用 'SimHei' 字体\n",
    "matplotlib.rcParams['axes.unicode_minus'] = False  # 解决负号显示问题\n",
    "matplotlib.rcParams['font.size'] = 16  # 设置稍大的全局字号\n",
    "matplotlib.rcParams['axes.labelsize'] = 18 # 坐标轴标签字号\n",
    "matplotlib.rcParams['xtick.labelsize'] = 14 # x轴刻度字号\n",
    "matplotlib.rcParams['ytick.labelsize'] = 14 # y轴刻度字号\n",
    "\n",
    "print(\"第一步：库导入与环境设置完成。\")"
   ]
  },
  {
   "cell_type": "code",
   "execution_count": 18,
   "id": "00371a50",
   "metadata": {},
   "outputs": [
    {
     "name": "stdout",
     "output_type": "stream",
     "text": [
      "第二步：文件路径配置完成。\n",
      "    - 输入文件: ..\\..\\Data\\0\\处理后的数据.xlsx\n",
      "    - 输出目录: Result\n"
     ]
    }
   ],
   "source": [
    "# ==============================================================================\n",
    "# 第二步：文件路径与输出目录配置\n",
    "# ==============================================================================\n",
    "# 输入文件路径 (相对于当前脚本)\n",
    "# 假设您的数据处理脚本在 '../DataPreprocessing/'，输出在'../Data/'\n",
    "# 那么此脚本可以放在 '../Problem4/'，路径正确\n",
    "input_file = Path('../../Data/0/处理后的数据.xlsx')\n",
    "\n",
    "# 结果输出目录 (在当前脚本所在文件夹下创建'Result'目录)\n",
    "output_dir = Path('./Result')\n",
    "# 确保输出目录存在，如果不存在则创建\n",
    "output_dir.mkdir(parents=True, exist_ok=True)\n",
    "\n",
    "print(f\"第二步：文件路径配置完成。\")\n",
    "print(f\"    - 输入文件: {input_file}\")\n",
    "print(f\"    - 输出目录: {output_dir}\")"
   ]
  },
  {
   "cell_type": "code",
   "execution_count": 19,
   "id": "79918d01",
   "metadata": {},
   "outputs": [
    {
     "name": "stdout",
     "output_type": "stream",
     "text": [
      "第三步：成功加载 '已分类清洗后数据'。\n",
      "    - 识别出 14 个化学成分用于分析。\n"
     ]
    }
   ],
   "source": [
    "# ==============================================================================\n",
    "# 第三步：数据加载与准备\n",
    "# ==============================================================================\n",
    "try:\n",
    "    df_classified = pd.read_excel(input_file, sheet_name='已分类清洗后数据')\n",
    "    print(\"第三步：成功加载 '已分类清洗后数据'。\")\n",
    "except FileNotFoundError:\n",
    "    print(f\"错误：输入文件不存在于路径 -> {input_file}\")\n",
    "    print(\"请检查文件路径配置是否正确。\")\n",
    "    # 如果文件不存在，退出程序\n",
    "    exit()\n",
    "\n",
    "# 识别化学成分列 (排除所有非数值和ID列)\n",
    "chemical_columns = [\n",
    "    col for col in df_classified.columns \n",
    "    if df_classified[col].dtype in ['float64', 'int64'] \n",
    "    and col not in ['文物编号', '成分总和']\n",
    "]\n",
    "print(f\"    - 识别出 {len(chemical_columns)} 个化学成分用于分析。\")"
   ]
  },
  {
   "cell_type": "code",
   "execution_count": 25,
   "id": "dcecbcca",
   "metadata": {},
   "outputs": [
    {
     "name": "stdout",
     "output_type": "stream",
     "text": [
      "第四步：集成社群发现功能的最终版函数定义完成。\n"
     ]
    }
   ],
   "source": [
    "# ==============================================================================\n",
    "# 第四步：核心分析与可视化（集成社群发现功能）\n",
    "# ==============================================================================\n",
    "from matplotlib.path import Path\n",
    "import matplotlib.patches as patches\n",
    "import matplotlib.lines as mlines\n",
    "import networkx.algorithms.community as nx_comm # 导入社群发现模块\n",
    "\n",
    "# --- 辅助函数：绘制“两端宽、中间细”的连接 ---\n",
    "def draw_pinched_edge(ax, pos1, pos2, width=1.0, color='blue', alpha=0.7):\n",
    "    \"\"\"\n",
    "    参数经过精心微调，实现更平滑的“收腰”效果。\n",
    "    \"\"\"\n",
    "    style = patches.ArrowStyle.Wedge(tail_width=width * 2.5, shrink_factor=0.25)\n",
    "    p1, p2 = np.array(pos1), np.array(pos2)\n",
    "    mid_point = (p1 + p2) / 2\n",
    "    arrow1 = patches.FancyArrowPatch(p1, mid_point, arrowstyle=style, color=color, alpha=alpha, shrinkA=15, shrinkB=0, mutation_scale=25, edgecolor=None)\n",
    "    arrow2 = patches.FancyArrowPatch(p2, mid_point, arrowstyle=style, color=color, alpha=alpha, shrinkA=15, shrinkB=0, mutation_scale=25, edgecolor=None)\n",
    "    ax.add_patch(arrow1)\n",
    "    ax.add_patch(arrow2)\n",
    "\n",
    "# --- 主分析与可视化函数 ---\n",
    "def analyze_and_plot_glasso_network(df, glass_type, chemical_cols, output_path):\n",
    "    \"\"\"\n",
    "    主分析函数，集成了社群发现和节点着色功能。\n",
    "    \"\"\"\n",
    "    # 1-6步保持不变\n",
    "    data = df[df['类型'] == glass_type][chemical_cols].copy()\n",
    "    data = data.loc[:, (data != 0).any(axis=0)]\n",
    "    updated_chemical_cols = data.columns.tolist()\n",
    "    print(f\"\\n开始分析 {glass_type} 玻璃 ({len(data)}个样本)...\")\n",
    "    delta = 1e-6\n",
    "    data[data <= 0] = delta\n",
    "    geom_mean = gmean(data, axis=1)\n",
    "    data_clr = np.log(data.div(geom_mean, axis=0))\n",
    "    scaler = StandardScaler()\n",
    "    data_clr_scaled = scaler.fit_transform(data_clr)\n",
    "    model = GraphicalLassoCV(cv=5, assume_centered=True, max_iter=200, n_jobs=-1)\n",
    "    model.fit(data_clr_scaled)\n",
    "    precision_matrix = model.precision_\n",
    "    print(f\"    - 找到最优 Alpha (正则化强度): {model.alpha_:.4f}\")\n",
    "    D = precision_matrix.shape[0]\n",
    "    partial_corr = np.zeros_like(precision_matrix)\n",
    "    for i in range(D):\n",
    "        for j in range(D):\n",
    "            if i != j:\n",
    "                partial_corr[i, j] = -precision_matrix[i, j] / np.sqrt(precision_matrix[i, i] * precision_matrix[j, j])\n",
    "    np.fill_diagonal(partial_corr, 1)\n",
    "    partial_corr_df = pd.DataFrame(partial_corr, index=updated_chemical_cols, columns=updated_chemical_cols)\n",
    "    output_excel_path = output_path / f\"{glass_type}玻璃_偏相关系数矩阵.xlsx\"\n",
    "    partial_corr_df.to_excel(output_excel_path)\n",
    "    print(f\"    - 已保存偏相关系数矩阵 -> {output_excel_path}\")\n",
    "\n",
    "    # --- 7. 网络可视化 ---\n",
    "    G = nx.Graph()\n",
    "    for col in updated_chemical_cols: G.add_node(col)\n",
    "\n",
    "    threshold = 0.01\n",
    "    for i in range(D):\n",
    "        for j in range(i + 1, D):\n",
    "            p_corr = partial_corr[i, j]\n",
    "            if abs(p_corr) > threshold:\n",
    "                G.add_edge(updated_chemical_cols[i], updated_chemical_cols[j], weight=abs(p_corr), pcorr=p_corr)\n",
    "\n",
    "    # --- 核心升级：社群发现与节点着色 ---\n",
    "    # 使用Louvain算法进行社群发现，权重越大的边在社群划分中越重要\n",
    "    communities = nx_comm.louvain_communities(G, weight='weight', seed=42)\n",
    "    num_communities = len(communities)\n",
    "    print(f\"    - 发现 {num_communities} 个结构社群。\")\n",
    "\n",
    "    # 为每个节点分配社群ID并生成对应颜色\n",
    "    node_to_community = {}\n",
    "    for i, community in enumerate(communities):\n",
    "        for node in community:\n",
    "            node_to_community[node] = i\n",
    "    \n",
    "    # 使用tab20色板，支持多达20个社群的清晰分辨\n",
    "    community_colors = plt.cm.get_cmap('tab20', num_communities)\n",
    "    node_colors = [community_colors(node_to_community[node]) for node in G.nodes()]\n",
    "    \n",
    "    # 节点大小逻辑保持不变\n",
    "    unweighted_degree = dict(G.degree())\n",
    "    weighted_degree = dict(G.degree(weight='weight'))\n",
    "    scores = {node: unweighted_degree[node] * weighted_degree[node] for node in G.nodes()}\n",
    "    max_score = max(scores.values()) if scores else 1\n",
    "    normalized_scores = {node: score / max_score for node, score in scores.items()}\n",
    "    node_sizes = [normalized_scores[node] * 6000 + 1500 for node in G.nodes()]\n",
    "\n",
    "    fig, ax = plt.subplots(figsize=(20, 20))\n",
    "    pos = nx.spring_layout(G, k=1.5, iterations=100, seed=42)\n",
    "\n",
    "    # A. 绘制边\n",
    "    edge_colors_map = {'positive': '#606060', 'negative': '#B0B0B0'} # 将边颜色调为中性灰度，突出彩色节点\n",
    "    for u, v in G.edges():\n",
    "        pcorr = G.edges[u, v]['pcorr']\n",
    "        color = edge_colors_map['positive' if pcorr > 0 else 'negative']\n",
    "        width = abs(pcorr) * 1.2 + 0.1\n",
    "        draw_pinched_edge(ax, pos[u], pos[v], width=width, color=color, alpha=0.6) # 降低边的透明度\n",
    "\n",
    "    # B. 绘制节点（使用社群颜色）和标签\n",
    "    nx.draw_networkx_nodes(G, pos, ax=ax, nodelist=G.nodes(), node_size=node_sizes, node_color=node_colors, alpha=1, edgecolors='black', linewidths=2)\n",
    "    nx.draw_networkx_labels(G, pos, ax=ax, font_size=20, font_family='SimHei', font_weight='bold')\n",
    "    \n",
    "    # C. 添加黑色边框\n",
    "    for spine in ax.spines.values():\n",
    "        spine.set_visible(True)\n",
    "        spine.set_color('black')\n",
    "        spine.set_linewidth(2.5)\n",
    "    ax.tick_params(left=False, bottom=False, labelleft=False, labelbottom=False)\n",
    "\n",
    "    # D. 创建动态图例（为每个社群创建一个条目）\n",
    "    legend_handles = []\n",
    "    for i in range(num_communities):\n",
    "        legend_handles.append(\n",
    "            mlines.Line2D([], [], color=community_colors(i), marker='o', linestyle='None',\n",
    "                          markersize=20, markeredgecolor='black', label=f'结构社群 {i+1}')\n",
    "        )\n",
    "    ax.legend(handles=legend_handles, \n",
    "              loc='upper right', \n",
    "              fontsize=20,\n",
    "              frameon=True,\n",
    "              edgecolor='black',\n",
    "              facecolor='white',\n",
    "              framealpha=0.85)\n",
    "\n",
    "    ax.set_aspect('equal')\n",
    "    plt.tight_layout()\n",
    "    \n",
    "    output_png_path = output_path / f\"{glass_type}玻璃化学成分关联网络图_社群版.png\"\n",
    "    plt.savefig(output_png_path, dpi=300, bbox_inches='tight')\n",
    "    print(f\"    - 已保存集成了社群发现的网络图 -> {output_png_path}\")\n",
    "    plt.close(fig)\n",
    "\n",
    "print(\"第四步：集成社群发现功能的最终版函数定义完成。\")"
   ]
  },
  {
   "cell_type": "code",
   "execution_count": 26,
   "id": "4acd0b58",
   "metadata": {},
   "outputs": [
    {
     "name": "stdout",
     "output_type": "stream",
     "text": [
      "\n",
      "==================== 开始执行分析流程 ====================\n",
      "\n",
      "开始分析 高钾 玻璃 (18个样本)...\n",
      "    - 找到最优 Alpha (正则化强度): 0.3654\n",
      "    - 已保存偏相关系数矩阵 -> Result\\高钾玻璃_偏相关系数矩阵.xlsx\n",
      "    - 发现 3 个结构社群。\n"
     ]
    },
    {
     "name": "stderr",
     "output_type": "stream",
     "text": [
      "d:\\Conda\\Lib\\site-packages\\numpy\\_core\\_methods.py:191: RuntimeWarning: invalid value encountered in subtract\n",
      "  x = asanyarray(arr - arrmean)\n",
      "C:\\Users\\86185\\AppData\\Local\\Temp\\ipykernel_37360\\4071863548.py:78: MatplotlibDeprecationWarning: The get_cmap function was deprecated in Matplotlib 3.7 and will be removed in 3.11. Use ``matplotlib.colormaps[name]`` or ``matplotlib.colormaps.get_cmap()`` or ``pyplot.get_cmap()`` instead.\n",
      "  community_colors = plt.cm.get_cmap('tab20', num_communities)\n"
     ]
    },
    {
     "name": "stdout",
     "output_type": "stream",
     "text": [
      "    - 已保存集成了社群发现的网络图 -> Result\\高钾玻璃化学成分关联网络图_社群版.png\n",
      "\n",
      "开始分析 铅钡 玻璃 (49个样本)...\n"
     ]
    },
    {
     "name": "stderr",
     "output_type": "stream",
     "text": [
      "d:\\Conda\\Lib\\site-packages\\numpy\\_core\\_methods.py:191: RuntimeWarning: invalid value encountered in subtract\n",
      "  x = asanyarray(arr - arrmean)\n",
      "C:\\Users\\86185\\AppData\\Local\\Temp\\ipykernel_37360\\4071863548.py:78: MatplotlibDeprecationWarning: The get_cmap function was deprecated in Matplotlib 3.7 and will be removed in 3.11. Use ``matplotlib.colormaps[name]`` or ``matplotlib.colormaps.get_cmap()`` or ``pyplot.get_cmap()`` instead.\n",
      "  community_colors = plt.cm.get_cmap('tab20', num_communities)\n"
     ]
    },
    {
     "name": "stdout",
     "output_type": "stream",
     "text": [
      "    - 找到最优 Alpha (正则化强度): 0.0968\n",
      "    - 已保存偏相关系数矩阵 -> Result\\铅钡玻璃_偏相关系数矩阵.xlsx\n",
      "    - 发现 3 个结构社群。\n",
      "    - 已保存集成了社群发现的网络图 -> Result\\铅钡玻璃化学成分关联网络图_社群版.png\n",
      "\n",
      "==================== 分析流程全部执行完毕 ====================\n"
     ]
    }
   ],
   "source": [
    "# ==============================================================================\n",
    "# 第五步：执行分析流程\n",
    "# ==============================================================================\n",
    "if __name__ == \"__main__\":\n",
    "    print(\"\\n==================== 开始执行分析流程 ====================\")\n",
    "    \n",
    "    # 对高钾玻璃进行分析\n",
    "    analyze_and_plot_glasso_network(\n",
    "        df=df_classified, \n",
    "        glass_type='高钾', \n",
    "        chemical_cols=chemical_columns,\n",
    "        output_path=output_dir\n",
    "    )\n",
    "    \n",
    "    # 对铅钡玻璃进行分析\n",
    "    analyze_and_plot_glasso_network(\n",
    "        df=df_classified, \n",
    "        glass_type='铅钡', \n",
    "        chemical_cols=chemical_columns,\n",
    "        output_path=output_dir\n",
    "    )\n",
    "    \n",
    "    print(\"\\n==================== 分析流程全部执行完毕 ====================\")"
   ]
  }
 ],
 "metadata": {
  "kernelspec": {
   "display_name": "base",
   "language": "python",
   "name": "python3"
  },
  "language_info": {
   "codemirror_mode": {
    "name": "ipython",
    "version": 3
   },
   "file_extension": ".py",
   "mimetype": "text/x-python",
   "name": "python",
   "nbconvert_exporter": "python",
   "pygments_lexer": "ipython3",
   "version": "3.13.5"
  }
 },
 "nbformat": 4,
 "nbformat_minor": 5
}
